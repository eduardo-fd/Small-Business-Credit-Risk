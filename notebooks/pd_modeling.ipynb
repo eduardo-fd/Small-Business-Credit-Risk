{
 "cells": [
  {
   "cell_type": "markdown",
   "id": "59430e6d-35df-456c-8203-3e1cec5c21a1",
   "metadata": {},
   "source": [
    "**Exploratory Data Analysis (comprobación)**"
   ]
  },
  {
   "cell_type": "markdown",
   "id": "0c628467-c3e9-45bf-adef-bf1300df8f71",
   "metadata": {},
   "source": [
    "Cargamos los paquetes y el dataset \"data_modeling.csv\""
   ]
  },
  {
   "cell_type": "code",
   "execution_count": 1,
   "id": "56e15f2d-f4ec-4b5c-b811-eb4d1983e3f1",
   "metadata": {},
   "outputs": [],
   "source": [
    "import pandas as pd\n",
    "import numpy as np\n",
    "import matplotlib.pyplot as plt\n",
    "import seaborn as sns"
   ]
  },
  {
   "cell_type": "code",
   "execution_count": 2,
   "id": "069ffd11-4f72-421a-bf79-d3c2eeaf5aa9",
   "metadata": {},
   "outputs": [],
   "source": [
    "df = pd.read_csv('../data/data_modeling.csv')"
   ]
  },
  {
   "cell_type": "code",
   "execution_count": 3,
   "id": "1461b424-d260-4a8d-988c-11b2e1cf79e1",
   "metadata": {},
   "outputs": [
    {
     "name": "stdout",
     "output_type": "stream",
     "text": [
      "(330353, 8)\n"
     ]
    }
   ],
   "source": [
    "print(df.shape)"
   ]
  },
  {
   "cell_type": "code",
   "execution_count": 4,
   "id": "d4c4ab39-e3c7-4dd5-b266-252292b6846a",
   "metadata": {
    "scrolled": true
   },
   "outputs": [
    {
     "data": {
      "text/html": [
       "<div>\n",
       "<style scoped>\n",
       "    .dataframe tbody tr th:only-of-type {\n",
       "        vertical-align: middle;\n",
       "    }\n",
       "\n",
       "    .dataframe tbody tr th {\n",
       "        vertical-align: top;\n",
       "    }\n",
       "\n",
       "    .dataframe thead th {\n",
       "        text-align: right;\n",
       "    }\n",
       "</style>\n",
       "<table border=\"1\" class=\"dataframe\">\n",
       "  <thead>\n",
       "    <tr style=\"text-align: right;\">\n",
       "      <th></th>\n",
       "      <th>loan_id</th>\n",
       "      <th>default_flag</th>\n",
       "      <th>gross_approval</th>\n",
       "      <th>term_in_months</th>\n",
       "      <th>naics_code_2</th>\n",
       "      <th>project_state</th>\n",
       "      <th>size_bucket</th>\n",
       "      <th>processing_bucket</th>\n",
       "    </tr>\n",
       "  </thead>\n",
       "  <tbody>\n",
       "    <tr>\n",
       "      <th>0</th>\n",
       "      <td>100355</td>\n",
       "      <td>0</td>\n",
       "      <td>3600000.0</td>\n",
       "      <td>300</td>\n",
       "      <td>44</td>\n",
       "      <td>GA</td>\n",
       "      <td>&gt;2M</td>\n",
       "      <td>STANDARD</td>\n",
       "    </tr>\n",
       "    <tr>\n",
       "      <th>1</th>\n",
       "      <td>149575</td>\n",
       "      <td>0</td>\n",
       "      <td>194000.0</td>\n",
       "      <td>120</td>\n",
       "      <td>72</td>\n",
       "      <td>WA</td>\n",
       "      <td>150-350k</td>\n",
       "      <td>PLP</td>\n",
       "    </tr>\n",
       "    <tr>\n",
       "      <th>2</th>\n",
       "      <td>112535</td>\n",
       "      <td>0</td>\n",
       "      <td>475000.0</td>\n",
       "      <td>204</td>\n",
       "      <td>44</td>\n",
       "      <td>WA</td>\n",
       "      <td>350-2M</td>\n",
       "      <td>PLP</td>\n",
       "    </tr>\n",
       "    <tr>\n",
       "      <th>3</th>\n",
       "      <td>191778</td>\n",
       "      <td>0</td>\n",
       "      <td>90000.0</td>\n",
       "      <td>84</td>\n",
       "      <td>45</td>\n",
       "      <td>ME</td>\n",
       "      <td>50-150k</td>\n",
       "      <td>PLP</td>\n",
       "    </tr>\n",
       "    <tr>\n",
       "      <th>4</th>\n",
       "      <td>206293</td>\n",
       "      <td>0</td>\n",
       "      <td>1300000.0</td>\n",
       "      <td>300</td>\n",
       "      <td>45</td>\n",
       "      <td>NJ</td>\n",
       "      <td>350-2M</td>\n",
       "      <td>PLP</td>\n",
       "    </tr>\n",
       "  </tbody>\n",
       "</table>\n",
       "</div>"
      ],
      "text/plain": [
       "   loan_id  default_flag  gross_approval  term_in_months  naics_code_2  \\\n",
       "0   100355             0       3600000.0             300            44   \n",
       "1   149575             0        194000.0             120            72   \n",
       "2   112535             0        475000.0             204            44   \n",
       "3   191778             0         90000.0              84            45   \n",
       "4   206293             0       1300000.0             300            45   \n",
       "\n",
       "  project_state size_bucket processing_bucket  \n",
       "0            GA         >2M          STANDARD  \n",
       "1            WA    150-350k               PLP  \n",
       "2            WA      350-2M               PLP  \n",
       "3            ME     50-150k               PLP  \n",
       "4            NJ      350-2M               PLP  "
      ]
     },
     "execution_count": 4,
     "metadata": {},
     "output_type": "execute_result"
    }
   ],
   "source": [
    "df.head()"
   ]
  },
  {
   "cell_type": "markdown",
   "id": "9a4ae12a-3268-4f28-b649-1fe231ab8edc",
   "metadata": {},
   "source": [
    "- Comprobación balance de Default y No default:"
   ]
  },
  {
   "cell_type": "code",
   "execution_count": 5,
   "id": "d7a378bc-a8dc-47ab-ac4d-186b8aa39cfd",
   "metadata": {},
   "outputs": [
    {
     "name": "stdout",
     "output_type": "stream",
     "text": [
      "Tasa de default: 0.0113121418603736\n",
      "default_flag\n",
      "0    0.988688\n",
      "1    0.011312\n",
      "Name: proportion, dtype: float64\n"
     ]
    }
   ],
   "source": [
    "print(\"Tasa de default:\", df[\"default_flag\"].mean())\n",
    "print(df[\"default_flag\"].value_counts(normalize=True))"
   ]
  },
  {
   "cell_type": "markdown",
   "id": "72f7a03e-bad5-4806-9a04-588ed332cae5",
   "metadata": {},
   "source": [
    "De la misma manera que en SQL, podemos observar que el dataset está desbalanceado: ~1.1% de los préstamos tienen default"
   ]
  },
  {
   "cell_type": "markdown",
   "id": "0d68171f-395c-4993-b0d5-9fe04da4c85e",
   "metadata": {},
   "source": [
    "- Distribución de los montos:"
   ]
  },
  {
   "cell_type": "code",
   "execution_count": 6,
   "id": "9e5317bc-58e2-4fed-aa44-4879ecc769f9",
   "metadata": {},
   "outputs": [
    {
     "data": {
      "image/png": "[encoded data removed]",
      "text/plain": [
       "<Figure size 640x480 with 1 Axes>"
      ]
     },
     "metadata": {},
     "output_type": "display_data"
    }
   ],
   "source": [
    "df[\"log_loan_amount\"] = np.log1p(df[\"gross_approval\"])\n",
    "df[\"log_loan_amount\"].hist(bins=50)\n",
    "plt.title(\"Distribución log(Loan Amount)\")\n",
    "plt.xlabel(\"log(Loan Amount)\")\n",
    "plt.ylabel(\"Frecuencia\")\n",
    "plt.show()"
   ]
  },
  {
   "cell_type": "markdown",
   "id": "a7f368a5-b814-44a5-8607-8f4c29ca4a51",
   "metadata": {},
   "source": [
    "El histograma representa la distribución de préstamos según la cantidad total prestada, se confirma una vez más que hay un sesgo en la distribución de los montos de préstamo hacia valores bajos: 0-150k > 350k-2M"
   ]
  },
  {
   "cell_type": "markdown",
   "id": "9d5e3f39-5462-4d42-a9dc-43f68095c91a",
   "metadata": {},
   "source": [
    "- Distribución de plazos:"
   ]
  },
  {
   "cell_type": "code",
   "execution_count": 7,
   "id": "d79b48b9-7879-49c2-a557-13bc20e72abd",
   "metadata": {},
   "outputs": [
    {
     "data": {
      "image/png": "[encoded data removed]",
      "text/plain": [
       "<Figure size 640x480 with 1 Axes>"
      ]
     },
     "metadata": {},
     "output_type": "display_data"
    }
   ],
   "source": [
    "df[\"term_in_months\"].hist(bins=30)\n",
    "plt.title(\"Distribución de plazos (meses)\")\n",
    "plt.xlabel(\"Plazo\")\n",
    "plt.ylabel(\"Frecuencia\")\n",
    "plt.show()\n"
   ]
  },
  {
   "cell_type": "markdown",
   "id": "136300db-fcf5-4276-8076-960a612c0499",
   "metadata": {},
   "source": [
    "Podemos observar que los plazos observados están muy concentrados a valores cercanos a 120 meses (8 años aprox.)"
   ]
  },
  {
   "cell_type": "markdown",
   "id": "55904181-96cd-49b3-86c7-e9209ad0c0e3",
   "metadata": {},
   "source": [
    "- Probabilidad de impago por estado"
   ]
  },
  {
   "cell_type": "code",
   "execution_count": 8,
   "id": "1777f46f-b485-4a97-8776-3fc0835aa09e",
   "metadata": {},
   "outputs": [
    {
     "name": "stdout",
     "output_type": "stream",
     "text": [
      "project_state\n",
      "NV    0.018089\n",
      "LA    0.017221\n",
      "FL    0.016325\n",
      "NY    0.016122\n",
      "HI    0.015099\n",
      "CA    0.014397\n",
      "IL    0.013942\n",
      "SD    0.013937\n",
      "NJ    0.013796\n",
      "AZ    0.013762\n",
      "Name: default_flag, dtype: float64\n"
     ]
    }
   ],
   "source": [
    "odr_state = df.groupby(\"project_state\")[\"default_flag\"].mean().sort_values(ascending=False).head(10)\n",
    "print(odr_state)"
   ]
  },
  {
   "cell_type": "markdown",
   "id": "cd60c0e2-4801-4ef4-abe0-b79ac728c6e2",
   "metadata": {},
   "source": [
    "Confirmamos que los resultados són los mismos que en SQL, con Nevada, Los Angeles y Florida como los Estados con mayor tasa de morosidad."
   ]
  },
  {
   "cell_type": "markdown",
   "id": "4b95facd-1d2f-4f75-9983-25ed60b0f38e",
   "metadata": {},
   "source": [
    "- Tasa de incumplimiento por sector"
   ]
  },
  {
   "cell_type": "code",
   "execution_count": 9,
   "id": "390aac38-a727-4e0c-bdd5-67da002ba5e2",
   "metadata": {},
   "outputs": [
    {
     "name": "stdout",
     "output_type": "stream",
     "text": [
      "naics_code_2\n",
      "48    0.025142\n",
      "22    0.016949\n",
      "49    0.016931\n",
      "42    0.013520\n",
      "23    0.013287\n",
      "56    0.013210\n",
      "45    0.012725\n",
      "53    0.011712\n",
      "54    0.010989\n",
      "61    0.010863\n",
      "Name: default_flag, dtype: float64\n"
     ]
    }
   ],
   "source": [
    "odr_naics = df.groupby(\"naics_code_2\")[\"default_flag\"].mean().sort_values(ascending=False).head(10)\n",
    "print(odr_naics)"
   ]
  },
  {
   "cell_type": "markdown",
   "id": "8069cf80-e896-407a-8ae7-fee9c8513bcd",
   "metadata": {},
   "source": [
    "Si comprobamos ahora por sector, los resultados son los mismos donde se observa una brecha notable sobre la tasa de morosidad del sector de Transporte-Almacenamiento y el resto de sectores."
   ]
  },
  {
   "cell_type": "markdown",
   "id": "63643d5e-ded3-44dc-a289-719d5096bb2c",
   "metadata": {},
   "source": [
    "**Modelo logístico (PD)**"
   ]
  },
  {
   "cell_type": "markdown",
   "id": "c77c7b23-54e4-46d5-9ddf-95c2071b6c81",
   "metadata": {},
   "source": [
    "Cargamos los paquetes que vamos a utilizar para realizar el modelo"
   ]
  },
  {
   "cell_type": "code",
   "execution_count": 10,
   "id": "1a205746-94db-4024-9a2b-9750c5453179",
   "metadata": {},
   "outputs": [],
   "source": [
    "import pandas as pd\n",
    "import numpy as np\n",
    "from sklearn.model_selection import train_test_split\n",
    "from sklearn.preprocessing import OneHotEncoder\n",
    "from sklearn.compose import ColumnTransformer\n",
    "from sklearn.pipeline import Pipeline\n",
    "from sklearn.linear_model import LogisticRegression\n",
    "from sklearn.metrics import roc_auc_score, roc_curve"
   ]
  },
  {
   "cell_type": "markdown",
   "id": "f53f6dad-96e7-4f9f-803c-b48beb951ed6",
   "metadata": {},
   "source": [
    "- Testing a logit model con AUS/KS"
   ]
  },
  {
   "cell_type": "markdown",
   "id": "9438f97e-22b4-40a8-83e5-10e4d1fdfc28",
   "metadata": {},
   "source": [
    "El modelo siguiente predice cual es la probabilidad de default (PD), utilizando la variable binaria dependiente 'default_flag' junto con las variables regresoras conocidas justo en el momento de originar el préstamo (antes de default) siguientes:\n",
    "- Cantidad prestada (gross_approbal en escala logarítmica)\n",
    "- Plazo del prestamo (term_in_months)\n",
    "- Sector económico (naics_code_2)\n",
    "- Estado (project_state)\n",
    "- Rango del monto prestado (size_bucket)\n",
    "- Tipo de programa del préstamo (processing_bucket)\n",
    "\n",
    "El plazo y la cantidad prestada se establecen como variables númericas (como se encuentran actualmente) mientras que las cualitativas se establecen como variables dummies (utilizando números binarios)."
   ]
  },
  {
   "cell_type": "markdown",
   "id": "c67cdf67-1e0f-49ad-aca0-a4df6299dd3a",
   "metadata": {},
   "source": [
    "Para el entrenamiento de el modelo establecemos class_weight='balanced' para que tengan mayor peso (ponderar) los préstamos que entraron en default (aproximadamente el 1,1% del total de préstamos). Con esto evitamos un PD igual a 0, ya que los datos estan desbalanceados y es necesario una corrección. "
   ]
  },
  {
   "cell_type": "markdown",
   "id": "54e21184-7483-4865-9254-3f098ce3d179",
   "metadata": {},
   "source": [
    "Seguidamente, se divide el dataset en un 80% entrenamiento y un 20% test, de esta manera evitamos que el modelo memorice el dataset y proporcione una predicción sesgada (overfitting)."
   ]
  },
  {
   "cell_type": "markdown",
   "id": "1f30cc78-696f-4114-b87d-9cc96ab415e1",
   "metadata": {},
   "source": [
    "Evaluamos el modelo calculando el AUC (Area Under ROC Curve) que mide qué tan bien el modelo distingue default vs no default, y el KS (Kolmogorov–Smirnov) que mide la separación entre buenos y malos clientes."
   ]
  },
  {
   "cell_type": "markdown",
   "id": "bb82a801-71f1-48e7-b320-134cc9a19453",
   "metadata": {},
   "source": [
    "Finalmente se calcula un pd_score (probabilidad de default) para cada préstamo, se ordenan los préstamos por PD y se dividen en 10 grupos (deciles). En cada decil se mide: el número de préstamos, número de defaults, tasa de default (ODR), % acumulado de defaults y volumen. El modelo exporta automaticamente el 'pd_scores.csv' y 'decile_summary.csv' a la carpeta /outputs."
   ]
  },
  {
   "cell_type": "code",
   "execution_count": 11,
   "id": "7185f0cb-4710-4891-8a3c-6fbf2caed2f1",
   "metadata": {},
   "outputs": [
    {
     "name": "stderr",
     "output_type": "stream",
     "text": [
      "/Users/edu/Desktop/Git/Small-Business-Credit-Risk/venv/lib/python3.12/site-packages/sklearn/linear_model/_logistic.py:473: ConvergenceWarning: lbfgs failed to converge after 1000 iteration(s) (status=1):\n",
      "STOP: TOTAL NO. OF ITERATIONS REACHED LIMIT\n",
      "\n",
      "Increase the number of iterations to improve the convergence (max_iter=1000).\n",
      "You might also want to scale the data as shown in:\n",
      "    https://scikit-learn.org/stable/modules/preprocessing.html\n",
      "Please also refer to the documentation for alternative solver options:\n",
      "    https://scikit-learn.org/stable/modules/linear_model.html#logistic-regression\n",
      "  n_iter_i = _check_optimize_result(\n"
     ]
    },
    {
     "name": "stdout",
     "output_type": "stream",
     "text": [
      "AUC=0.865, KS=0.632\n"
     ]
    }
   ],
   "source": [
    "df = pd.read_csv('../data/data_modeling.csv')\n",
    "df['log_loan_amount'] = np.log1p(df['gross_approval'])\n",
    "\n",
    "X = df[['log_loan_amount','term_in_months','naics_code_2','project_state','size_bucket','processing_bucket']]\n",
    "y = df['default_flag']\n",
    "\n",
    "num = ['log_loan_amount','term_in_months']\n",
    "cat = ['naics_code_2','project_state','size_bucket','processing_bucket']\n",
    "\n",
    "pre = ColumnTransformer([\n",
    "    ('num','passthrough', num),\n",
    "    ('cat', OneHotEncoder(handle_unknown='ignore', sparse_output=False), cat)\n",
    "])\n",
    "\n",
    "clf = Pipeline([\n",
    "    ('prep', pre),\n",
    "    ('lr', LogisticRegression(max_iter=1000, class_weight='balanced'))\n",
    "])\n",
    "\n",
    "Xtr, Xte, ytr, yte = train_test_split(X, y, test_size=0.2, stratify=y, random_state=42)\n",
    "clf.fit(Xtr, ytr)\n",
    "\n",
    "# Métricas\n",
    "proba_te = clf.predict_proba(Xte)[:,1]\n",
    "auc = roc_auc_score(yte, proba_te)\n",
    "\n",
    "# KS rápido\n",
    "fpr, tpr, thr = roc_curve(yte, proba_te)\n",
    "ks = max(tpr - fpr)\n",
    "\n",
    "# Deciles sobre TODO el dataset\n",
    "df['pd_score'] = clf.predict_proba(X)[:,1]\n",
    "df['decile'] = pd.qcut(df['pd_score'], 10, labels=False, duplicates='drop') + 1  # 1..10\n",
    "\n",
    "# Tabla de deciles (trade-off)\n",
    "dec = df.groupby('decile').agg(\n",
    "    approved_cnt=('default_flag','count'),\n",
    "    default_cnt=('default_flag','sum'),\n",
    "    avg_pd=('pd_score','mean')\n",
    ").reset_index()\n",
    "dec['odr'] = dec['default_cnt']/dec['approved_cnt']\n",
    "dec = dec.sort_values('decile', ascending=False)  # si 10 = más riesgo\n",
    "dec['cum_defaults_%'] = dec['default_cnt'].cumsum()/dec['default_cnt'].sum()\n",
    "dec['cum_volume_%']  = dec['approved_cnt'].cumsum()/dec['approved_cnt'].sum()\n",
    "\n",
    "df[['loan_id','pd_score','decile']].to_csv('../outputs/pd_scores.csv', index=False)\n",
    "dec.to_csv('../outputs/decile_summary.csv', index=False)\n",
    "\n",
    "print(f\"AUC={auc:.3f}, KS={ks:.3f}\")\n"
   ]
  },
  {
   "cell_type": "markdown",
   "id": "1b790aea-7482-4897-9849-86fe39b8a863",
   "metadata": {},
   "source": [
    "El modelo logístico alcanzó un AUC=0.865 (el modelo acierta un 86,5% de las veces los clientes que entrán a default) y KS=0.632 (63,2% de diferencia entre la proporción de malos y buenos), valores que indican una capacidad predictiva robusta. Los deciles superiores concentran la mayoría de los defaults en una fracción reducida del volumen, lo que permitirá a un banco enfocar la gestión de riesgo en los segmentos más expuestos."
   ]
  },
  {
   "cell_type": "markdown",
   "id": "6df66b81-fb88-4dcb-8d91-e5799a43929d",
   "metadata": {},
   "source": [
    "Actualmente, este modelo es un poco complejo para mí y se encuentra por encima de mis capacidades actuales de programación (terreno de un data scientist, mi objetivo a largo plazo), pero tenía curiosidad por ver como se hace un modelo de scoring básico."
   ]
  },
  {
   "cell_type": "markdown",
   "id": "44c0b1bd-6474-4501-8979-0c6fd826ef59",
   "metadata": {},
   "source": [
    "**Checklist**"
   ]
  },
  {
   "cell_type": "markdown",
   "id": "aa6fe0c9-1432-45fe-b74d-ebfab7ddb9da",
   "metadata": {},
   "source": [
    "Comprobamos que el número de préstamos de 'pd_scores.csv' sea igual a el de 'fact_loans.csv'"
   ]
  },
  {
   "cell_type": "code",
   "execution_count": 12,
   "id": "d3a53381-2faf-4f23-b0b5-93e88f940ac1",
   "metadata": {},
   "outputs": [],
   "source": [
    "import pandas as pd"
   ]
  },
  {
   "cell_type": "code",
   "execution_count": 13,
   "id": "6464e161-854d-402b-b53a-138fe6719eed",
   "metadata": {},
   "outputs": [],
   "source": [
    "df_loans = pd.read_csv('../data/fact_loans.csv')\n",
    "df_scores = pd.read_csv('../outputs/pd_scores.csv')"
   ]
  },
  {
   "cell_type": "code",
   "execution_count": 14,
   "id": "6724fcc9-76cb-4563-89a1-930ef03ca27e",
   "metadata": {},
   "outputs": [
    {
     "name": "stdout",
     "output_type": "stream",
     "text": [
      "330353\n",
      "330353\n"
     ]
    }
   ],
   "source": [
    "print(len(df_loans))\n",
    "print(len(df_scores))"
   ]
  },
  {
   "cell_type": "markdown",
   "id": "4d6ede3f-65da-4b73-9358-dc81ffc3ad85",
   "metadata": {},
   "source": [
    "Comprobamos que la tabla de deciles 'decile_summary.csv' sea correcta y no hayan anomalias"
   ]
  },
  {
   "cell_type": "code",
   "execution_count": 15,
   "id": "1091d3e7-3db7-44bd-871e-b78cf0b06b54",
   "metadata": {},
   "outputs": [],
   "source": [
    "df_decile = pd.read_csv('../outputs/decile_summary.csv')"
   ]
  },
  {
   "cell_type": "code",
   "execution_count": 16,
   "id": "70a9934f-41ed-409b-a9a6-e92fc1e55307",
   "metadata": {},
   "outputs": [
    {
     "data": {
      "text/html": [
       "<div>\n",
       "<style scoped>\n",
       "    .dataframe tbody tr th:only-of-type {\n",
       "        vertical-align: middle;\n",
       "    }\n",
       "\n",
       "    .dataframe tbody tr th {\n",
       "        vertical-align: top;\n",
       "    }\n",
       "\n",
       "    .dataframe thead th {\n",
       "        text-align: right;\n",
       "    }\n",
       "</style>\n",
       "<table border=\"1\" class=\"dataframe\">\n",
       "  <thead>\n",
       "    <tr style=\"text-align: right;\">\n",
       "      <th></th>\n",
       "      <th>decile</th>\n",
       "      <th>approved_cnt</th>\n",
       "      <th>default_cnt</th>\n",
       "      <th>avg_pd</th>\n",
       "      <th>odr</th>\n",
       "      <th>cum_defaults_%</th>\n",
       "      <th>cum_volume_%</th>\n",
       "    </tr>\n",
       "  </thead>\n",
       "  <tbody>\n",
       "    <tr>\n",
       "      <th>0</th>\n",
       "      <td>10</td>\n",
       "      <td>33036</td>\n",
       "      <td>1805</td>\n",
       "      <td>0.849503</td>\n",
       "      <td>0.054637</td>\n",
       "      <td>0.483008</td>\n",
       "      <td>0.100002</td>\n",
       "    </tr>\n",
       "    <tr>\n",
       "      <th>1</th>\n",
       "      <td>9</td>\n",
       "      <td>33007</td>\n",
       "      <td>1229</td>\n",
       "      <td>0.594347</td>\n",
       "      <td>0.037235</td>\n",
       "      <td>0.811881</td>\n",
       "      <td>0.199916</td>\n",
       "    </tr>\n",
       "    <tr>\n",
       "      <th>2</th>\n",
       "      <td>8</td>\n",
       "      <td>33060</td>\n",
       "      <td>359</td>\n",
       "      <td>0.451776</td>\n",
       "      <td>0.010859</td>\n",
       "      <td>0.907948</td>\n",
       "      <td>0.299991</td>\n",
       "    </tr>\n",
       "    <tr>\n",
       "      <th>3</th>\n",
       "      <td>7</td>\n",
       "      <td>33031</td>\n",
       "      <td>135</td>\n",
       "      <td>0.364460</td>\n",
       "      <td>0.004087</td>\n",
       "      <td>0.944073</td>\n",
       "      <td>0.399978</td>\n",
       "    </tr>\n",
       "    <tr>\n",
       "      <th>4</th>\n",
       "      <td>6</td>\n",
       "      <td>33042</td>\n",
       "      <td>75</td>\n",
       "      <td>0.306040</td>\n",
       "      <td>0.002270</td>\n",
       "      <td>0.964142</td>\n",
       "      <td>0.499998</td>\n",
       "    </tr>\n",
       "    <tr>\n",
       "      <th>5</th>\n",
       "      <td>5</td>\n",
       "      <td>33034</td>\n",
       "      <td>56</td>\n",
       "      <td>0.247906</td>\n",
       "      <td>0.001695</td>\n",
       "      <td>0.979128</td>\n",
       "      <td>0.599995</td>\n",
       "    </tr>\n",
       "    <tr>\n",
       "      <th>6</th>\n",
       "      <td>4</td>\n",
       "      <td>33037</td>\n",
       "      <td>23</td>\n",
       "      <td>0.193533</td>\n",
       "      <td>0.000696</td>\n",
       "      <td>0.985282</td>\n",
       "      <td>0.700000</td>\n",
       "    </tr>\n",
       "    <tr>\n",
       "      <th>7</th>\n",
       "      <td>3</td>\n",
       "      <td>33035</td>\n",
       "      <td>17</td>\n",
       "      <td>0.129574</td>\n",
       "      <td>0.000515</td>\n",
       "      <td>0.989831</td>\n",
       "      <td>0.799999</td>\n",
       "    </tr>\n",
       "    <tr>\n",
       "      <th>8</th>\n",
       "      <td>2</td>\n",
       "      <td>33035</td>\n",
       "      <td>37</td>\n",
       "      <td>0.019400</td>\n",
       "      <td>0.001120</td>\n",
       "      <td>0.999732</td>\n",
       "      <td>0.899998</td>\n",
       "    </tr>\n",
       "    <tr>\n",
       "      <th>9</th>\n",
       "      <td>1</td>\n",
       "      <td>33036</td>\n",
       "      <td>1</td>\n",
       "      <td>0.000092</td>\n",
       "      <td>0.000030</td>\n",
       "      <td>1.000000</td>\n",
       "      <td>1.000000</td>\n",
       "    </tr>\n",
       "  </tbody>\n",
       "</table>\n",
       "</div>"
      ],
      "text/plain": [
       "   decile  approved_cnt  default_cnt    avg_pd       odr  cum_defaults_%  \\\n",
       "0      10         33036         1805  0.849503  0.054637        0.483008   \n",
       "1       9         33007         1229  0.594347  0.037235        0.811881   \n",
       "2       8         33060          359  0.451776  0.010859        0.907948   \n",
       "3       7         33031          135  0.364460  0.004087        0.944073   \n",
       "4       6         33042           75  0.306040  0.002270        0.964142   \n",
       "5       5         33034           56  0.247906  0.001695        0.979128   \n",
       "6       4         33037           23  0.193533  0.000696        0.985282   \n",
       "7       3         33035           17  0.129574  0.000515        0.989831   \n",
       "8       2         33035           37  0.019400  0.001120        0.999732   \n",
       "9       1         33036            1  0.000092  0.000030        1.000000   \n",
       "\n",
       "   cum_volume_%  \n",
       "0      0.100002  \n",
       "1      0.199916  \n",
       "2      0.299991  \n",
       "3      0.399978  \n",
       "4      0.499998  \n",
       "5      0.599995  \n",
       "6      0.700000  \n",
       "7      0.799999  \n",
       "8      0.899998  \n",
       "9      1.000000  "
      ]
     },
     "execution_count": 16,
     "metadata": {},
     "output_type": "execute_result"
    }
   ],
   "source": [
    "df_decile.head(10)"
   ]
  }
 ],
 "metadata": {
  "kernelspec": {
   "display_name": "Python 3 (ipykernel)",
   "language": "python",
   "name": "python3"
  },
  "language_info": {
   "codemirror_mode": {
    "name": "ipython",
    "version": 3
   },
   "file_extension": ".py",
   "mimetype": "text/x-python",
   "name": "python",
   "nbconvert_exporter": "python",
   "pygments_lexer": "ipython3",
   "version": "3.12.4"
  }
 },
 "nbformat": 4,
 "nbformat_minor": 5
}
